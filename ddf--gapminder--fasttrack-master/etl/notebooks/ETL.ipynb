{
 "cells": [
  {
   "cell_type": "code",
   "execution_count": 219,
   "metadata": {},
   "outputs": [],
   "source": [
    "import pandas as pd\n",
    "import requests as req\n",
    "import numpy as np"
   ]
  },
  {
   "cell_type": "code",
   "execution_count": 94,
   "metadata": {},
   "outputs": [],
   "source": [
    "import string"
   ]
  },
  {
   "cell_type": "code",
   "execution_count": 109,
   "metadata": {},
   "outputs": [],
   "source": [
    "from decimal import Decimal"
   ]
  },
  {
   "cell_type": "code",
   "execution_count": 220,
   "metadata": {},
   "outputs": [],
   "source": [
    "from ddf_utils.str import format_float_digits"
   ]
  },
  {
   "cell_type": "code",
   "execution_count": 84,
   "metadata": {},
   "outputs": [],
   "source": [
    "pd.set_option(\"display.max_rows\", 10)"
   ]
  },
  {
   "cell_type": "code",
   "execution_count": null,
   "metadata": {},
   "outputs": [],
   "source": []
  },
  {
   "cell_type": "code",
   "execution_count": null,
   "metadata": {},
   "outputs": [],
   "source": []
  },
  {
   "cell_type": "code",
   "execution_count": null,
   "metadata": {},
   "outputs": [],
   "source": []
  },
  {
   "cell_type": "code",
   "execution_count": null,
   "metadata": {},
   "outputs": [],
   "source": []
  },
  {
   "cell_type": "code",
   "execution_count": null,
   "metadata": {},
   "outputs": [],
   "source": []
  },
  {
   "cell_type": "code",
   "execution_count": 41,
   "metadata": {},
   "outputs": [],
   "source": [
    "DOCID = \"1P1KQ8JHxjy8wnV02Hwb1TnUEJ3BejMbMKbQ0i_VAjyo\""
   ]
  },
  {
   "cell_type": "code",
   "execution_count": 42,
   "metadata": {},
   "outputs": [],
   "source": [
    "url = f\"https://docs.google.com/spreadsheets/d/{DOCID}/export?format=xlsx&id={DOCID}\""
   ]
  },
  {
   "cell_type": "code",
   "execution_count": 43,
   "metadata": {},
   "outputs": [
    {
     "data": {
      "text/plain": [
       "'https://docs.google.com/spreadsheets/d/1P1KQ8JHxjy8wnV02Hwb1TnUEJ3BejMbMKbQ0i_VAjyo/export?format=xlsx&id=1P1KQ8JHxjy8wnV02Hwb1TnUEJ3BejMbMKbQ0i_VAjyo'"
      ]
     },
     "execution_count": 43,
     "metadata": {},
     "output_type": "execute_result"
    }
   ],
   "source": [
    "url"
   ]
  },
  {
   "cell_type": "code",
   "execution_count": 44,
   "metadata": {},
   "outputs": [],
   "source": [
    "from io import BytesIO"
   ]
  },
  {
   "cell_type": "code",
   "execution_count": 232,
   "metadata": {},
   "outputs": [],
   "source": [
    "r = req.get(url)"
   ]
  },
  {
   "cell_type": "code",
   "execution_count": 233,
   "metadata": {},
   "outputs": [
    {
     "data": {
      "text/plain": [
       "True"
      ]
     },
     "execution_count": 233,
     "metadata": {},
     "output_type": "execute_result"
    }
   ],
   "source": [
    "r.ok"
   ]
  },
  {
   "cell_type": "code",
   "execution_count": 234,
   "metadata": {},
   "outputs": [],
   "source": [
    "byt = req.get(url).content"
   ]
  },
  {
   "cell_type": "code",
   "execution_count": 235,
   "metadata": {},
   "outputs": [],
   "source": [
    "f = BytesIO(byt)"
   ]
  },
  {
   "cell_type": "code",
   "execution_count": 236,
   "metadata": {},
   "outputs": [],
   "source": [
    "concepts = pd.read_excel(f, sheet_name='concepts')"
   ]
  },
  {
   "cell_type": "code",
   "execution_count": 237,
   "metadata": {},
   "outputs": [
    {
     "data": {
      "text/html": [
       "<div>\n",
       "<style scoped>\n",
       "    .dataframe tbody tr th:only-of-type {\n",
       "        vertical-align: middle;\n",
       "    }\n",
       "\n",
       "    .dataframe tbody tr th {\n",
       "        vertical-align: top;\n",
       "    }\n",
       "\n",
       "    .dataframe thead th {\n",
       "        text-align: right;\n",
       "    }\n",
       "</style>\n",
       "<table border=\"1\" class=\"dataframe\">\n",
       "  <thead>\n",
       "    <tr style=\"text-align: right;\">\n",
       "      <th></th>\n",
       "      <th>concept_id</th>\n",
       "      <th>concept_type</th>\n",
       "      <th>source_url</th>\n",
       "      <th>version</th>\n",
       "      <th>updated</th>\n",
       "      <th>name_short</th>\n",
       "      <th>name</th>\n",
       "      <th>description</th>\n",
       "      <th>unit</th>\n",
       "      <th>topic</th>\n",
       "    </tr>\n",
       "  </thead>\n",
       "  <tbody>\n",
       "    <tr>\n",
       "      <th>0</th>\n",
       "      <td>democrperc</td>\n",
       "      <td>measure</td>\n",
       "      <td>https://docs.google.com/spreadsheets/d/1km9lsO...</td>\n",
       "      <td>v1</td>\n",
       "      <td>2018-09-05</td>\n",
       "      <td>Democracy share</td>\n",
       "      <td>Share of population living in democracies</td>\n",
       "      <td>The sum of populations in all countries categi...</td>\n",
       "      <td>Percent</td>\n",
       "      <td>governance</td>\n",
       "    </tr>\n",
       "    <tr>\n",
       "      <th>1</th>\n",
       "      <td>democrpop</td>\n",
       "      <td>measure</td>\n",
       "      <td>https://docs.google.com/spreadsheets/d/1km9lsO...</td>\n",
       "      <td>v1</td>\n",
       "      <td>2018-09-05</td>\n",
       "      <td>Democracy population</td>\n",
       "      <td>Number of people living in democracies</td>\n",
       "      <td>The sum of population of all countries categir...</td>\n",
       "      <td>Number of people</td>\n",
       "      <td>governance</td>\n",
       "    </tr>\n",
       "    <tr>\n",
       "      <th>2</th>\n",
       "      <td>democrix</td>\n",
       "      <td>measure</td>\n",
       "      <td>https://docs.google.com/spreadsheets/d/1d0noZr...</td>\n",
       "      <td>v1</td>\n",
       "      <td>2018-10-01</td>\n",
       "      <td>Democracy index</td>\n",
       "      <td>Quality of the democracy</td>\n",
       "      <td>The democracy index is using the data from the...</td>\n",
       "      <td>Percent</td>\n",
       "      <td>governance</td>\n",
       "    </tr>\n",
       "    <tr>\n",
       "      <th>3</th>\n",
       "      <td>democrixelect</td>\n",
       "      <td>measure</td>\n",
       "      <td>https://docs.google.com/spreadsheets/d/1d0noZr...</td>\n",
       "      <td>v1</td>\n",
       "      <td>2018-10-01</td>\n",
       "      <td>Electoral pluralism index</td>\n",
       "      <td>Index of the electoral process and pluralism</td>\n",
       "      <td>NaN</td>\n",
       "      <td>Percent</td>\n",
       "      <td>governance</td>\n",
       "    </tr>\n",
       "    <tr>\n",
       "      <th>4</th>\n",
       "      <td>democrixgov</td>\n",
       "      <td>measure</td>\n",
       "      <td>https://docs.google.com/spreadsheets/d/1d0noZr...</td>\n",
       "      <td>v1</td>\n",
       "      <td>2018-10-01</td>\n",
       "      <td>Government index</td>\n",
       "      <td>Index of the functioning of government</td>\n",
       "      <td>This is one of five subindexes of the democrac...</td>\n",
       "      <td>Percent</td>\n",
       "      <td>governance</td>\n",
       "    </tr>\n",
       "    <tr>\n",
       "      <th>5</th>\n",
       "      <td>democrixpolpart</td>\n",
       "      <td>measure</td>\n",
       "      <td>https://docs.google.com/spreadsheets/d/1d0noZr...</td>\n",
       "      <td>v1</td>\n",
       "      <td>2018-10-01</td>\n",
       "      <td>Political participation index</td>\n",
       "      <td>Index of the political participation</td>\n",
       "      <td>This is one of five subindexes of the democrac...</td>\n",
       "      <td>Percent</td>\n",
       "      <td>governance</td>\n",
       "    </tr>\n",
       "    <tr>\n",
       "      <th>6</th>\n",
       "      <td>democrixpolcult</td>\n",
       "      <td>measure</td>\n",
       "      <td>https://docs.google.com/spreadsheets/d/1d0noZr...</td>\n",
       "      <td>v1</td>\n",
       "      <td>2018-10-01</td>\n",
       "      <td>Political culture index</td>\n",
       "      <td>Index of the political culture</td>\n",
       "      <td>This is one of five subindexes of the democrac...</td>\n",
       "      <td>Percent</td>\n",
       "      <td>governance</td>\n",
       "    </tr>\n",
       "    <tr>\n",
       "      <th>7</th>\n",
       "      <td>democrixlib</td>\n",
       "      <td>measure</td>\n",
       "      <td>https://docs.google.com/spreadsheets/d/1d0noZr...</td>\n",
       "      <td>v1</td>\n",
       "      <td>2018-10-01</td>\n",
       "      <td>Civil liberties index</td>\n",
       "      <td>Index of the civil liberties</td>\n",
       "      <td>\"This is one of five subindexes of the democra...</td>\n",
       "      <td>Percent</td>\n",
       "      <td>governance</td>\n",
       "    </tr>\n",
       "    <tr>\n",
       "      <th>8</th>\n",
       "      <td>democrixch</td>\n",
       "      <td>measure</td>\n",
       "      <td>https://docs.google.com/spreadsheets/d/1d0noZr...</td>\n",
       "      <td>v1</td>\n",
       "      <td>2018-10-01</td>\n",
       "      <td>Change in democracy index</td>\n",
       "      <td>Annual change of democracy index compared to p...</td>\n",
       "      <td>The annual change of percentage points compare...</td>\n",
       "      <td>Percent</td>\n",
       "      <td>governance</td>\n",
       "    </tr>\n",
       "  </tbody>\n",
       "</table>\n",
       "</div>"
      ],
      "text/plain": [
       "        concept_id concept_type  \\\n",
       "0       democrperc      measure   \n",
       "1        democrpop      measure   \n",
       "2         democrix      measure   \n",
       "3    democrixelect      measure   \n",
       "4      democrixgov      measure   \n",
       "5  democrixpolpart      measure   \n",
       "6  democrixpolcult      measure   \n",
       "7      democrixlib      measure   \n",
       "8       democrixch      measure   \n",
       "\n",
       "                                          source_url version    updated  \\\n",
       "0  https://docs.google.com/spreadsheets/d/1km9lsO...      v1 2018-09-05   \n",
       "1  https://docs.google.com/spreadsheets/d/1km9lsO...      v1 2018-09-05   \n",
       "2  https://docs.google.com/spreadsheets/d/1d0noZr...      v1 2018-10-01   \n",
       "3  https://docs.google.com/spreadsheets/d/1d0noZr...      v1 2018-10-01   \n",
       "4  https://docs.google.com/spreadsheets/d/1d0noZr...      v1 2018-10-01   \n",
       "5  https://docs.google.com/spreadsheets/d/1d0noZr...      v1 2018-10-01   \n",
       "6  https://docs.google.com/spreadsheets/d/1d0noZr...      v1 2018-10-01   \n",
       "7  https://docs.google.com/spreadsheets/d/1d0noZr...      v1 2018-10-01   \n",
       "8  https://docs.google.com/spreadsheets/d/1d0noZr...      v1 2018-10-01   \n",
       "\n",
       "                      name_short  \\\n",
       "0                Democracy share   \n",
       "1           Democracy population   \n",
       "2                Democracy index   \n",
       "3      Electoral pluralism index   \n",
       "4               Government index   \n",
       "5  Political participation index   \n",
       "6        Political culture index   \n",
       "7          Civil liberties index   \n",
       "8      Change in democracy index   \n",
       "\n",
       "                                                name  \\\n",
       "0          Share of population living in democracies   \n",
       "1             Number of people living in democracies   \n",
       "2                           Quality of the democracy   \n",
       "3       Index of the electoral process and pluralism   \n",
       "4             Index of the functioning of government   \n",
       "5               Index of the political participation   \n",
       "6                     Index of the political culture   \n",
       "7                       Index of the civil liberties   \n",
       "8  Annual change of democracy index compared to p...   \n",
       "\n",
       "                                         description              unit  \\\n",
       "0  The sum of populations in all countries categi...           Percent   \n",
       "1  The sum of population of all countries categir...  Number of people   \n",
       "2  The democracy index is using the data from the...           Percent   \n",
       "3                                                NaN           Percent   \n",
       "4  This is one of five subindexes of the democrac...           Percent   \n",
       "5  This is one of five subindexes of the democrac...           Percent   \n",
       "6  This is one of five subindexes of the democrac...           Percent   \n",
       "7  \"This is one of five subindexes of the democra...           Percent   \n",
       "8  The annual change of percentage points compare...           Percent   \n",
       "\n",
       "        topic  \n",
       "0  governance  \n",
       "1  governance  \n",
       "2  governance  \n",
       "3  governance  \n",
       "4  governance  \n",
       "5  governance  \n",
       "6  governance  \n",
       "7  governance  \n",
       "8  governance  "
      ]
     },
     "execution_count": 237,
     "metadata": {},
     "output_type": "execute_result"
    }
   ],
   "source": [
    "concepts"
   ]
  },
  {
   "cell_type": "code",
   "execution_count": 238,
   "metadata": {},
   "outputs": [],
   "source": [
    "datapoints = pd.read_excel(f, sheet_name='datapoints')"
   ]
  },
  {
   "cell_type": "code",
   "execution_count": 239,
   "metadata": {},
   "outputs": [
    {
     "data": {
      "text/html": [
       "<div>\n",
       "<style scoped>\n",
       "    .dataframe tbody tr th:only-of-type {\n",
       "        vertical-align: middle;\n",
       "    }\n",
       "\n",
       "    .dataframe tbody tr th {\n",
       "        vertical-align: top;\n",
       "    }\n",
       "\n",
       "    .dataframe thead th {\n",
       "        text-align: right;\n",
       "    }\n",
       "</style>\n",
       "<table border=\"1\" class=\"dataframe\">\n",
       "  <thead>\n",
       "    <tr style=\"text-align: right;\">\n",
       "      <th></th>\n",
       "      <th>concept_id</th>\n",
       "      <th>dimensions</th>\n",
       "      <th>concept_name</th>\n",
       "      <th>table_format</th>\n",
       "      <th>csv_link</th>\n",
       "    </tr>\n",
       "  </thead>\n",
       "  <tbody>\n",
       "    <tr>\n",
       "      <th>0</th>\n",
       "      <td>democrperc</td>\n",
       "      <td>[geo:global,time:year]</td>\n",
       "      <td>Democracy share</td>\n",
       "      <td>{timeInColumns:FALSE, hasNameColumn:TRUE,nameC...</td>\n",
       "      <td>https://docs.google.com/spreadsheets/d/1km9lsO...</td>\n",
       "    </tr>\n",
       "    <tr>\n",
       "      <th>1</th>\n",
       "      <td>democrpop</td>\n",
       "      <td>[geo:global,time:year]</td>\n",
       "      <td>Democracy population</td>\n",
       "      <td>{timeInColumns:FALSE, hasNameColumn:TRUE,nameC...</td>\n",
       "      <td>https://docs.google.com/spreadsheets/d/1km9lsO...</td>\n",
       "    </tr>\n",
       "    <tr>\n",
       "      <th>2</th>\n",
       "      <td>democrix</td>\n",
       "      <td>[geo:country,time:year]</td>\n",
       "      <td>Democracy index</td>\n",
       "      <td>{timeInColumns:FALSE, hasNameColumn:TRUE,nameC...</td>\n",
       "      <td>https://docs.google.com/spreadsheets/d/1d0noZr...</td>\n",
       "    </tr>\n",
       "    <tr>\n",
       "      <th>3</th>\n",
       "      <td>democrixelect</td>\n",
       "      <td>[geo:country,time:year]</td>\n",
       "      <td>Electoral pluralism index</td>\n",
       "      <td>{timeInColumns:FALSE, hasNameColumn:TRUE,nameC...</td>\n",
       "      <td>https://docs.google.com/spreadsheets/d/1d0noZr...</td>\n",
       "    </tr>\n",
       "    <tr>\n",
       "      <th>4</th>\n",
       "      <td>democrixgov</td>\n",
       "      <td>[geo:country,time:year]</td>\n",
       "      <td>Government index</td>\n",
       "      <td>{timeInColumns:FALSE, hasNameColumn:TRUE,nameC...</td>\n",
       "      <td>https://docs.google.com/spreadsheets/d/1d0noZr...</td>\n",
       "    </tr>\n",
       "    <tr>\n",
       "      <th>...</th>\n",
       "      <td>...</td>\n",
       "      <td>...</td>\n",
       "      <td>...</td>\n",
       "      <td>...</td>\n",
       "      <td>...</td>\n",
       "    </tr>\n",
       "    <tr>\n",
       "      <th>18</th>\n",
       "      <td>democrixpolcult</td>\n",
       "      <td>[geo:world_4region,time:year]</td>\n",
       "      <td>Political culture index</td>\n",
       "      <td>{timeInColumns:FALSE, hasNameColumn:TRUE,nameC...</td>\n",
       "      <td>https://docs.google.com/spreadsheets/d/1d0noZr...</td>\n",
       "    </tr>\n",
       "    <tr>\n",
       "      <th>19</th>\n",
       "      <td>democrixlib</td>\n",
       "      <td>[geo:world_4region,time:year]</td>\n",
       "      <td>Civil liberties index</td>\n",
       "      <td>{timeInColumns:FALSE, hasNameColumn:TRUE,nameC...</td>\n",
       "      <td>https://docs.google.com/spreadsheets/d/1d0noZr...</td>\n",
       "    </tr>\n",
       "    <tr>\n",
       "      <th>20</th>\n",
       "      <td>democrixch</td>\n",
       "      <td>[geo:country,time:year]</td>\n",
       "      <td>Change in democracy index</td>\n",
       "      <td>{timeInColumns:FALSE, hasNameColumn:TRUE,nameC...</td>\n",
       "      <td>https://docs.google.com/spreadsheets/d/1d0noZr...</td>\n",
       "    </tr>\n",
       "    <tr>\n",
       "      <th>21</th>\n",
       "      <td>democrixch</td>\n",
       "      <td>[geo:global,time:year]</td>\n",
       "      <td>Change in democracy index</td>\n",
       "      <td>{timeInColumns:FALSE, hasNameColumn:TRUE,nameC...</td>\n",
       "      <td>https://docs.google.com/spreadsheets/d/1d0noZr...</td>\n",
       "    </tr>\n",
       "    <tr>\n",
       "      <th>22</th>\n",
       "      <td>democrixch</td>\n",
       "      <td>[geo:world_4region,time:year]</td>\n",
       "      <td>Change in democracy index</td>\n",
       "      <td>{timeInColumns:FALSE, hasNameColumn:TRUE,nameC...</td>\n",
       "      <td>https://docs.google.com/spreadsheets/d/1d0noZr...</td>\n",
       "    </tr>\n",
       "  </tbody>\n",
       "</table>\n",
       "<p>23 rows × 5 columns</p>\n",
       "</div>"
      ],
      "text/plain": [
       "         concept_id                     dimensions               concept_name  \\\n",
       "0        democrperc         [geo:global,time:year]            Democracy share   \n",
       "1         democrpop         [geo:global,time:year]       Democracy population   \n",
       "2          democrix        [geo:country,time:year]            Democracy index   \n",
       "3     democrixelect        [geo:country,time:year]  Electoral pluralism index   \n",
       "4       democrixgov        [geo:country,time:year]           Government index   \n",
       "..              ...                            ...                        ...   \n",
       "18  democrixpolcult  [geo:world_4region,time:year]    Political culture index   \n",
       "19      democrixlib  [geo:world_4region,time:year]      Civil liberties index   \n",
       "20       democrixch        [geo:country,time:year]  Change in democracy index   \n",
       "21       democrixch         [geo:global,time:year]  Change in democracy index   \n",
       "22       democrixch  [geo:world_4region,time:year]  Change in democracy index   \n",
       "\n",
       "                                         table_format  \\\n",
       "0   {timeInColumns:FALSE, hasNameColumn:TRUE,nameC...   \n",
       "1   {timeInColumns:FALSE, hasNameColumn:TRUE,nameC...   \n",
       "2   {timeInColumns:FALSE, hasNameColumn:TRUE,nameC...   \n",
       "3   {timeInColumns:FALSE, hasNameColumn:TRUE,nameC...   \n",
       "4   {timeInColumns:FALSE, hasNameColumn:TRUE,nameC...   \n",
       "..                                                ...   \n",
       "18  {timeInColumns:FALSE, hasNameColumn:TRUE,nameC...   \n",
       "19  {timeInColumns:FALSE, hasNameColumn:TRUE,nameC...   \n",
       "20  {timeInColumns:FALSE, hasNameColumn:TRUE,nameC...   \n",
       "21  {timeInColumns:FALSE, hasNameColumn:TRUE,nameC...   \n",
       "22  {timeInColumns:FALSE, hasNameColumn:TRUE,nameC...   \n",
       "\n",
       "                                             csv_link  \n",
       "0   https://docs.google.com/spreadsheets/d/1km9lsO...  \n",
       "1   https://docs.google.com/spreadsheets/d/1km9lsO...  \n",
       "2   https://docs.google.com/spreadsheets/d/1d0noZr...  \n",
       "3   https://docs.google.com/spreadsheets/d/1d0noZr...  \n",
       "4   https://docs.google.com/spreadsheets/d/1d0noZr...  \n",
       "..                                                ...  \n",
       "18  https://docs.google.com/spreadsheets/d/1d0noZr...  \n",
       "19  https://docs.google.com/spreadsheets/d/1d0noZr...  \n",
       "20  https://docs.google.com/spreadsheets/d/1d0noZr...  \n",
       "21  https://docs.google.com/spreadsheets/d/1d0noZr...  \n",
       "22  https://docs.google.com/spreadsheets/d/1d0noZr...  \n",
       "\n",
       "[23 rows x 5 columns]"
      ]
     },
     "execution_count": 239,
     "metadata": {},
     "output_type": "execute_result"
    }
   ],
   "source": [
    "datapoints"
   ]
  },
  {
   "cell_type": "code",
   "execution_count": 126,
   "metadata": {},
   "outputs": [],
   "source": [
    "def get_docid_sheet(link):\n",
    "    p = parse.parse(\n",
    "        \"https://docs.google.com/spreadsheets/d/{docid}/gviz/tq?tqx=out:csv&sheet={sheet_name}\", \n",
    "        link)\n",
    "    docid = p.named['docid']\n",
    "    sheet_name = p.named['sheet_name']\n",
    "    \n",
    "    return docid, sheet_name"
   ]
  },
  {
   "cell_type": "code",
   "execution_count": 127,
   "metadata": {},
   "outputs": [],
   "source": [
    "def get_csv_link_dict(ser):\n",
    "    res = dict()\n",
    "    for s in ser:\n",
    "        docid, sheet_name = get_docid_sheet(s)\n",
    "        if docid in res:\n",
    "            if sheet_name in res[docid]:\n",
    "                continue\n",
    "            else:\n",
    "                res[docid][sheet_name] = s\n",
    "        else:\n",
    "            res[docid] = dict()\n",
    "            res[docid][sheet_name] = s\n",
    "    return res"
   ]
  },
  {
   "cell_type": "code",
   "execution_count": null,
   "metadata": {},
   "outputs": [],
   "source": []
  },
  {
   "cell_type": "code",
   "execution_count": 128,
   "metadata": {},
   "outputs": [],
   "source": [
    "csv_link_dict = get_csv_link_dict(datapoints.csv_link.values)"
   ]
  },
  {
   "cell_type": "code",
   "execution_count": 129,
   "metadata": {},
   "outputs": [
    {
     "data": {
      "text/plain": [
       "{'1km9lsO1FxYBRMpG244HGevtLUSR9JLCTqRAYICyPZ8k': {'data-1-democracy-share-of-world-by-year': 'https://docs.google.com/spreadsheets/d/1km9lsO1FxYBRMpG244HGevtLUSR9JLCTqRAYICyPZ8k/gviz/tq?tqx=out:csv&sheet=data-1-democracy-share-of-world-by-year',\n",
       "  'data-2-democracy-pop-of-world-by-year': 'https://docs.google.com/spreadsheets/d/1km9lsO1FxYBRMpG244HGevtLUSR9JLCTqRAYICyPZ8k/gviz/tq?tqx=out:csv&sheet=data-2-democracy-pop-of-world-by-year'},\n",
       " '1d0noZrwAWxNBTDSfDgG06_aLGWUz4R6fgDhRaUZbDzE': {'data-for-countries-etc-by-year': 'https://docs.google.com/spreadsheets/d/1d0noZrwAWxNBTDSfDgG06_aLGWUz4R6fgDhRaUZbDzE/gviz/tq?tqx=out:csv&sheet=data-for-countries-etc-by-year',\n",
       "  'data-for-world-by-year': 'https://docs.google.com/spreadsheets/d/1d0noZrwAWxNBTDSfDgG06_aLGWUz4R6fgDhRaUZbDzE/gviz/tq?tqx=out:csv&sheet=data-for-world-by-year',\n",
       "  'data-for-regions-by-year': 'https://docs.google.com/spreadsheets/d/1d0noZrwAWxNBTDSfDgG06_aLGWUz4R6fgDhRaUZbDzE/gviz/tq?tqx=out:csv&sheet=data-for-regions-by-year'}}"
      ]
     },
     "execution_count": 129,
     "metadata": {},
     "output_type": "execute_result"
    }
   ],
   "source": [
    "csv_link_dict"
   ]
  },
  {
   "cell_type": "code",
   "execution_count": null,
   "metadata": {},
   "outputs": [],
   "source": []
  },
  {
   "cell_type": "code",
   "execution_count": 222,
   "metadata": {},
   "outputs": [],
   "source": [
    "csv_dict = csv_link_dict.copy()"
   ]
  },
  {
   "cell_type": "code",
   "execution_count": 223,
   "metadata": {},
   "outputs": [],
   "source": [
    "for docid, di in csv_link_dict.items():\n",
    "    csv_dict[docid] = dict([sheet_name, pd.read_csv(link)] for sheet_name, link in csv_dict[docid].items())"
   ]
  },
  {
   "cell_type": "code",
   "execution_count": 224,
   "metadata": {},
   "outputs": [
    {
     "data": {
      "text/html": [
       "<div>\n",
       "<style scoped>\n",
       "    .dataframe tbody tr th:only-of-type {\n",
       "        vertical-align: middle;\n",
       "    }\n",
       "\n",
       "    .dataframe tbody tr th {\n",
       "        vertical-align: top;\n",
       "    }\n",
       "\n",
       "    .dataframe thead th {\n",
       "        text-align: right;\n",
       "    }\n",
       "</style>\n",
       "<table border=\"1\" class=\"dataframe\">\n",
       "  <thead>\n",
       "    <tr style=\"text-align: right;\">\n",
       "      <th></th>\n",
       "      <th>geo</th>\n",
       "      <th>name</th>\n",
       "      <th>time</th>\n",
       "      <th>Democracy share</th>\n",
       "    </tr>\n",
       "  </thead>\n",
       "  <tbody>\n",
       "    <tr>\n",
       "      <th>0</th>\n",
       "      <td>world</td>\n",
       "      <td>World</td>\n",
       "      <td>1816</td>\n",
       "      <td>0.81%</td>\n",
       "    </tr>\n",
       "    <tr>\n",
       "      <th>1</th>\n",
       "      <td>world</td>\n",
       "      <td>World</td>\n",
       "      <td>1817</td>\n",
       "      <td>0.82%</td>\n",
       "    </tr>\n",
       "    <tr>\n",
       "      <th>2</th>\n",
       "      <td>world</td>\n",
       "      <td>World</td>\n",
       "      <td>1818</td>\n",
       "      <td>0.83%</td>\n",
       "    </tr>\n",
       "    <tr>\n",
       "      <th>3</th>\n",
       "      <td>world</td>\n",
       "      <td>World</td>\n",
       "      <td>1819</td>\n",
       "      <td>0.84%</td>\n",
       "    </tr>\n",
       "    <tr>\n",
       "      <th>4</th>\n",
       "      <td>world</td>\n",
       "      <td>World</td>\n",
       "      <td>1820</td>\n",
       "      <td>0.86%</td>\n",
       "    </tr>\n",
       "    <tr>\n",
       "      <th>...</th>\n",
       "      <td>...</td>\n",
       "      <td>...</td>\n",
       "      <td>...</td>\n",
       "      <td>...</td>\n",
       "    </tr>\n",
       "    <tr>\n",
       "      <th>197</th>\n",
       "      <td>world</td>\n",
       "      <td>World</td>\n",
       "      <td>2013</td>\n",
       "      <td>48.86%</td>\n",
       "    </tr>\n",
       "    <tr>\n",
       "      <th>198</th>\n",
       "      <td>world</td>\n",
       "      <td>World</td>\n",
       "      <td>2014</td>\n",
       "      <td>47.79%</td>\n",
       "    </tr>\n",
       "    <tr>\n",
       "      <th>199</th>\n",
       "      <td>world</td>\n",
       "      <td>World</td>\n",
       "      <td>2015</td>\n",
       "      <td>47.99%</td>\n",
       "    </tr>\n",
       "    <tr>\n",
       "      <th>200</th>\n",
       "      <td>world</td>\n",
       "      <td>World</td>\n",
       "      <td>2016</td>\n",
       "      <td>47.63%</td>\n",
       "    </tr>\n",
       "    <tr>\n",
       "      <th>201</th>\n",
       "      <td>world</td>\n",
       "      <td>World</td>\n",
       "      <td>2017</td>\n",
       "      <td>47.69%</td>\n",
       "    </tr>\n",
       "  </tbody>\n",
       "</table>\n",
       "<p>202 rows × 4 columns</p>\n",
       "</div>"
      ],
      "text/plain": [
       "       geo   name  time Democracy share\n",
       "0    world  World  1816           0.81%\n",
       "1    world  World  1817           0.82%\n",
       "2    world  World  1818           0.83%\n",
       "3    world  World  1819           0.84%\n",
       "4    world  World  1820           0.86%\n",
       "..     ...    ...   ...             ...\n",
       "197  world  World  2013          48.86%\n",
       "198  world  World  2014          47.79%\n",
       "199  world  World  2015          47.99%\n",
       "200  world  World  2016          47.63%\n",
       "201  world  World  2017          47.69%\n",
       "\n",
       "[202 rows x 4 columns]"
      ]
     },
     "execution_count": 224,
     "metadata": {},
     "output_type": "execute_result"
    }
   ],
   "source": [
    "csv_dict['1km9lsO1FxYBRMpG244HGevtLUSR9JLCTqRAYICyPZ8k']['data-1-democracy-share-of-world-by-year']"
   ]
  },
  {
   "cell_type": "code",
   "execution_count": null,
   "metadata": {},
   "outputs": [],
   "source": []
  },
  {
   "cell_type": "code",
   "execution_count": 90,
   "metadata": {},
   "outputs": [],
   "source": [
    "def get_dataframe(docid, sheet_name, dimension_pairs, concept_name, copy=True):\n",
    "    df = csv_dict[docid][sheet_name]\n",
    "    columns = [find_column(df, x) for x in dimension_pairs]\n",
    "    columns.append(concept_name)\n",
    "    if copy:\n",
    "        return df[columns].copy()\n",
    "    else:\n",
    "        return df[columns]"
   ]
  },
  {
   "cell_type": "code",
   "execution_count": 74,
   "metadata": {},
   "outputs": [],
   "source": [
    "def find_column(df, dimension_pair):\n",
    "    for d in dimension_pair[::-1]:  # reversed order: from specific to general\n",
    "        if d in df.columns:\n",
    "            return d"
   ]
  },
  {
   "cell_type": "code",
   "execution_count": 88,
   "metadata": {},
   "outputs": [],
   "source": [
    "concept_map = datapoints.set_index('concept_name')['concept_id'].to_dict()"
   ]
  },
  {
   "cell_type": "code",
   "execution_count": 89,
   "metadata": {},
   "outputs": [
    {
     "data": {
      "text/plain": [
       "{'Democracy share': 'democrperc',\n",
       " 'Democracy population': 'democrpop',\n",
       " 'Democracy index': 'democrix',\n",
       " 'Electoral pluralism index': 'democrixelect',\n",
       " 'Government index': 'democrixgov',\n",
       " 'Political participation index': 'democrixpolpart',\n",
       " 'Political culture index': 'democrixpolcult',\n",
       " 'Civil liberties index': 'democrixlib',\n",
       " 'Change in democracy index': 'democrixch'}"
      ]
     },
     "execution_count": 89,
     "metadata": {},
     "output_type": "execute_result"
    }
   ],
   "source": [
    "concept_map"
   ]
  },
  {
   "cell_type": "code",
   "execution_count": 91,
   "metadata": {},
   "outputs": [
    {
     "data": {
      "text/html": [
       "<div>\n",
       "<style scoped>\n",
       "    .dataframe tbody tr th:only-of-type {\n",
       "        vertical-align: middle;\n",
       "    }\n",
       "\n",
       "    .dataframe tbody tr th {\n",
       "        vertical-align: top;\n",
       "    }\n",
       "\n",
       "    .dataframe thead th {\n",
       "        text-align: right;\n",
       "    }\n",
       "</style>\n",
       "<table border=\"1\" class=\"dataframe\">\n",
       "  <thead>\n",
       "    <tr style=\"text-align: right;\">\n",
       "      <th></th>\n",
       "      <th>geo</th>\n",
       "      <th>year</th>\n",
       "      <th>Democracy share</th>\n",
       "    </tr>\n",
       "  </thead>\n",
       "  <tbody>\n",
       "    <tr>\n",
       "      <th>0</th>\n",
       "      <td>world</td>\n",
       "      <td>1816</td>\n",
       "      <td>0.91%</td>\n",
       "    </tr>\n",
       "    <tr>\n",
       "      <th>1</th>\n",
       "      <td>world</td>\n",
       "      <td>1817</td>\n",
       "      <td>0.92%</td>\n",
       "    </tr>\n",
       "    <tr>\n",
       "      <th>2</th>\n",
       "      <td>world</td>\n",
       "      <td>1818</td>\n",
       "      <td>0.93%</td>\n",
       "    </tr>\n",
       "    <tr>\n",
       "      <th>3</th>\n",
       "      <td>world</td>\n",
       "      <td>1819</td>\n",
       "      <td>0.94%</td>\n",
       "    </tr>\n",
       "    <tr>\n",
       "      <th>4</th>\n",
       "      <td>world</td>\n",
       "      <td>1820</td>\n",
       "      <td>0.96%</td>\n",
       "    </tr>\n",
       "    <tr>\n",
       "      <th>...</th>\n",
       "      <td>...</td>\n",
       "      <td>...</td>\n",
       "      <td>...</td>\n",
       "    </tr>\n",
       "    <tr>\n",
       "      <th>195</th>\n",
       "      <td>world</td>\n",
       "      <td>2011</td>\n",
       "      <td>55.57%</td>\n",
       "    </tr>\n",
       "    <tr>\n",
       "      <th>196</th>\n",
       "      <td>world</td>\n",
       "      <td>2012</td>\n",
       "      <td>55.24%</td>\n",
       "    </tr>\n",
       "    <tr>\n",
       "      <th>197</th>\n",
       "      <td>world</td>\n",
       "      <td>2013</td>\n",
       "      <td>55.32%</td>\n",
       "    </tr>\n",
       "    <tr>\n",
       "      <th>198</th>\n",
       "      <td>world</td>\n",
       "      <td>2014</td>\n",
       "      <td>53.02%</td>\n",
       "    </tr>\n",
       "    <tr>\n",
       "      <th>199</th>\n",
       "      <td>world</td>\n",
       "      <td>2015</td>\n",
       "      <td>55.85%</td>\n",
       "    </tr>\n",
       "  </tbody>\n",
       "</table>\n",
       "<p>200 rows × 3 columns</p>\n",
       "</div>"
      ],
      "text/plain": [
       "       geo  year Democracy share\n",
       "0    world  1816           0.91%\n",
       "1    world  1817           0.92%\n",
       "2    world  1818           0.93%\n",
       "3    world  1819           0.94%\n",
       "4    world  1820           0.96%\n",
       "..     ...   ...             ...\n",
       "195  world  2011          55.57%\n",
       "196  world  2012          55.24%\n",
       "197  world  2013          55.32%\n",
       "198  world  2014          53.02%\n",
       "199  world  2015          55.85%\n",
       "\n",
       "[200 rows x 3 columns]"
      ]
     },
     "execution_count": 91,
     "metadata": {},
     "output_type": "execute_result"
    }
   ],
   "source": [
    "get_dataframe('1km9lsO1FxYBRMpG244HGevtLUSR9JLCTqRAYICyPZ8k', \n",
    "             'data-1-democracy-share-of-world-by-year',\n",
    "             [('geo', 'world_4region'), \n",
    "              ('time', 'year')], \n",
    "              'Democracy share')"
   ]
  },
  {
   "cell_type": "code",
   "execution_count": 117,
   "metadata": {},
   "outputs": [],
   "source": [
    "def parse_number(s, decimal=False):\n",
    "    # TODO: use locale module to handle different formats. see https://stackoverflow.com/a/46411203\n",
    "    tbl = str.maketrans('(', '-', '),%')\n",
    "    if decimal:\n",
    "        return Decimal(s.translate(tbl))\n",
    "    return float(s.translate(tbl))"
   ]
  },
  {
   "cell_type": "code",
   "execution_count": 119,
   "metadata": {},
   "outputs": [
    {
     "data": {
      "text/plain": [
       "99.0"
      ]
     },
     "execution_count": 119,
     "metadata": {},
     "output_type": "execute_result"
    }
   ],
   "source": [
    "parse_number(\"99%\")"
   ]
  },
  {
   "cell_type": "code",
   "execution_count": null,
   "metadata": {},
   "outputs": [],
   "source": []
  },
  {
   "cell_type": "code",
   "execution_count": 124,
   "metadata": {},
   "outputs": [],
   "source": [
    "def parse_dimension_pairs(dimensions):\n",
    "    return [p.fixed for p in parse.findall(\"{:w}:{:w}\", dimensions)]"
   ]
  },
  {
   "cell_type": "code",
   "execution_count": 125,
   "metadata": {},
   "outputs": [
    {
     "data": {
      "text/plain": [
       "[('geo', 'world_4region'), ('time', 'year')]"
      ]
     },
     "execution_count": 125,
     "metadata": {},
     "output_type": "execute_result"
    }
   ],
   "source": [
    "parse_dimension_pairs('[geo:world_4region,time:year]')"
   ]
  },
  {
   "cell_type": "code",
   "execution_count": null,
   "metadata": {},
   "outputs": [],
   "source": []
  },
  {
   "cell_type": "code",
   "execution_count": 242,
   "metadata": {},
   "outputs": [],
   "source": [
    "for _, row in datapoints.iterrows():\n",
    "    dimension_pairs = parse_dimension_pairs(row['dimensions'])\n",
    "    docid, sheet_name = get_docid_sheet(row['csv_link'])\n",
    "    df = get_dataframe(docid, sheet_name, dimension_pairs, row['concept_name'])\n",
    "    by = [find_column(df, x) for x in dimension_pairs]\n",
    "    df = df.set_index(by)\n",
    "    # print(df.columns)\n",
    "    df = df.rename(columns=concept_map)\n",
    "    concept = df.columns[0]\n",
    "    if df[concept].dtype == 'object':\n",
    "        df[concept] = df[concept].map(parse_number).map(format_float_digits)\n",
    "    else:\n",
    "        df[concept] = df[concept].map(format_float_digits)\n",
    "    by_fn = list()\n",
    "    for k, v in dict(dimension_pairs).items():\n",
    "        if k == 'time':\n",
    "            by_fn.append('time')\n",
    "        else:\n",
    "            by_fn.append(v)\n",
    "    df.index.names = by_fn\n",
    "    df.dropna().to_csv('../../ddf--datapoints--{}--by--{}.csv'.format(row['concept_id'], '--'.join(by_fn)))"
   ]
  },
  {
   "cell_type": "code",
   "execution_count": null,
   "metadata": {},
   "outputs": [],
   "source": []
  },
  {
   "cell_type": "code",
   "execution_count": 135,
   "metadata": {},
   "outputs": [
    {
     "data": {
      "text/html": [
       "<div>\n",
       "<style scoped>\n",
       "    .dataframe tbody tr th:only-of-type {\n",
       "        vertical-align: middle;\n",
       "    }\n",
       "\n",
       "    .dataframe tbody tr th {\n",
       "        vertical-align: top;\n",
       "    }\n",
       "\n",
       "    .dataframe thead th {\n",
       "        text-align: right;\n",
       "    }\n",
       "</style>\n",
       "<table border=\"1\" class=\"dataframe\">\n",
       "  <thead>\n",
       "    <tr style=\"text-align: right;\">\n",
       "      <th></th>\n",
       "      <th>concept_id</th>\n",
       "      <th>concept_type</th>\n",
       "      <th>source_link</th>\n",
       "      <th>version</th>\n",
       "      <th>updated</th>\n",
       "      <th>name</th>\n",
       "      <th>longname</th>\n",
       "      <th>description</th>\n",
       "      <th>unit</th>\n",
       "      <th>topic</th>\n",
       "    </tr>\n",
       "  </thead>\n",
       "  <tbody>\n",
       "    <tr>\n",
       "      <th>0</th>\n",
       "      <td>democrperc</td>\n",
       "      <td>measure</td>\n",
       "      <td>https://docs.google.com/spreadsheets/d/1km9lsO...</td>\n",
       "      <td>v1</td>\n",
       "      <td>2018-09-05</td>\n",
       "      <td>Democracy share</td>\n",
       "      <td>Share of population living in democracies</td>\n",
       "      <td>The sum of populations in all countries categi...</td>\n",
       "      <td>Percent</td>\n",
       "      <td>governance</td>\n",
       "    </tr>\n",
       "    <tr>\n",
       "      <th>1</th>\n",
       "      <td>democrpop</td>\n",
       "      <td>measure</td>\n",
       "      <td>https://docs.google.com/spreadsheets/d/1km9lsO...</td>\n",
       "      <td>v1</td>\n",
       "      <td>2018-09-05</td>\n",
       "      <td>Democracy population</td>\n",
       "      <td>Number of people living in democracies</td>\n",
       "      <td>The sum of population of all countries categir...</td>\n",
       "      <td>Number of people</td>\n",
       "      <td>governance</td>\n",
       "    </tr>\n",
       "    <tr>\n",
       "      <th>2</th>\n",
       "      <td>democrix</td>\n",
       "      <td>measure</td>\n",
       "      <td>https://docs.google.com/spreadsheets/d/1d0noZr...</td>\n",
       "      <td>v1</td>\n",
       "      <td>2018-10-01</td>\n",
       "      <td>Democracy index</td>\n",
       "      <td>Quality of the democracy</td>\n",
       "      <td>The democracy index is using the data from the...</td>\n",
       "      <td>Percent</td>\n",
       "      <td>governance</td>\n",
       "    </tr>\n",
       "    <tr>\n",
       "      <th>3</th>\n",
       "      <td>democrixelect</td>\n",
       "      <td>measure</td>\n",
       "      <td>https://docs.google.com/spreadsheets/d/1d0noZr...</td>\n",
       "      <td>v1</td>\n",
       "      <td>2018-10-01</td>\n",
       "      <td>Electoral pluralism index</td>\n",
       "      <td>Index of the electoral process and pluralism</td>\n",
       "      <td>NaN</td>\n",
       "      <td>Percent</td>\n",
       "      <td>governance</td>\n",
       "    </tr>\n",
       "    <tr>\n",
       "      <th>4</th>\n",
       "      <td>democrixgov</td>\n",
       "      <td>measure</td>\n",
       "      <td>https://docs.google.com/spreadsheets/d/1d0noZr...</td>\n",
       "      <td>v1</td>\n",
       "      <td>2018-10-01</td>\n",
       "      <td>Government index</td>\n",
       "      <td>Index of the functioning of government</td>\n",
       "      <td>This is one of five subindexes of the democrac...</td>\n",
       "      <td>Percent</td>\n",
       "      <td>governance</td>\n",
       "    </tr>\n",
       "    <tr>\n",
       "      <th>5</th>\n",
       "      <td>democrixpolpart</td>\n",
       "      <td>measure</td>\n",
       "      <td>https://docs.google.com/spreadsheets/d/1d0noZr...</td>\n",
       "      <td>v1</td>\n",
       "      <td>2018-10-01</td>\n",
       "      <td>Political participation index</td>\n",
       "      <td>Index of the political participation</td>\n",
       "      <td>This is one of five subindexes of the democrac...</td>\n",
       "      <td>Percent</td>\n",
       "      <td>governance</td>\n",
       "    </tr>\n",
       "    <tr>\n",
       "      <th>6</th>\n",
       "      <td>democrixpolcult</td>\n",
       "      <td>measure</td>\n",
       "      <td>https://docs.google.com/spreadsheets/d/1d0noZr...</td>\n",
       "      <td>v1</td>\n",
       "      <td>2018-10-01</td>\n",
       "      <td>Political culture index</td>\n",
       "      <td>Index of the political culture</td>\n",
       "      <td>This is one of five subindexes of the democrac...</td>\n",
       "      <td>Percent</td>\n",
       "      <td>governance</td>\n",
       "    </tr>\n",
       "    <tr>\n",
       "      <th>7</th>\n",
       "      <td>democrixlib</td>\n",
       "      <td>measure</td>\n",
       "      <td>https://docs.google.com/spreadsheets/d/1d0noZr...</td>\n",
       "      <td>v1</td>\n",
       "      <td>2018-10-01</td>\n",
       "      <td>Civil liberties index</td>\n",
       "      <td>Index of the civil liberties</td>\n",
       "      <td>\"This is one of five subindexes of the democra...</td>\n",
       "      <td>Percent</td>\n",
       "      <td>governance</td>\n",
       "    </tr>\n",
       "    <tr>\n",
       "      <th>8</th>\n",
       "      <td>democrixch</td>\n",
       "      <td>measure</td>\n",
       "      <td>https://docs.google.com/spreadsheets/d/1d0noZr...</td>\n",
       "      <td>v1</td>\n",
       "      <td>2018-10-01</td>\n",
       "      <td>Change in democracy index</td>\n",
       "      <td>Annual change of democracy index compared to p...</td>\n",
       "      <td>The annual change of percentage points compare...</td>\n",
       "      <td>Percent</td>\n",
       "      <td>governance</td>\n",
       "    </tr>\n",
       "  </tbody>\n",
       "</table>\n",
       "</div>"
      ],
      "text/plain": [
       "        concept_id concept_type  \\\n",
       "0       democrperc      measure   \n",
       "1        democrpop      measure   \n",
       "2         democrix      measure   \n",
       "3    democrixelect      measure   \n",
       "4      democrixgov      measure   \n",
       "5  democrixpolpart      measure   \n",
       "6  democrixpolcult      measure   \n",
       "7      democrixlib      measure   \n",
       "8       democrixch      measure   \n",
       "\n",
       "                                         source_link version    updated  \\\n",
       "0  https://docs.google.com/spreadsheets/d/1km9lsO...      v1 2018-09-05   \n",
       "1  https://docs.google.com/spreadsheets/d/1km9lsO...      v1 2018-09-05   \n",
       "2  https://docs.google.com/spreadsheets/d/1d0noZr...      v1 2018-10-01   \n",
       "3  https://docs.google.com/spreadsheets/d/1d0noZr...      v1 2018-10-01   \n",
       "4  https://docs.google.com/spreadsheets/d/1d0noZr...      v1 2018-10-01   \n",
       "5  https://docs.google.com/spreadsheets/d/1d0noZr...      v1 2018-10-01   \n",
       "6  https://docs.google.com/spreadsheets/d/1d0noZr...      v1 2018-10-01   \n",
       "7  https://docs.google.com/spreadsheets/d/1d0noZr...      v1 2018-10-01   \n",
       "8  https://docs.google.com/spreadsheets/d/1d0noZr...      v1 2018-10-01   \n",
       "\n",
       "                            name  \\\n",
       "0                Democracy share   \n",
       "1           Democracy population   \n",
       "2                Democracy index   \n",
       "3      Electoral pluralism index   \n",
       "4               Government index   \n",
       "5  Political participation index   \n",
       "6        Political culture index   \n",
       "7          Civil liberties index   \n",
       "8      Change in democracy index   \n",
       "\n",
       "                                            longname  \\\n",
       "0          Share of population living in democracies   \n",
       "1             Number of people living in democracies   \n",
       "2                           Quality of the democracy   \n",
       "3       Index of the electoral process and pluralism   \n",
       "4             Index of the functioning of government   \n",
       "5               Index of the political participation   \n",
       "6                     Index of the political culture   \n",
       "7                       Index of the civil liberties   \n",
       "8  Annual change of democracy index compared to p...   \n",
       "\n",
       "                                         description              unit  \\\n",
       "0  The sum of populations in all countries categi...           Percent   \n",
       "1  The sum of population of all countries categir...  Number of people   \n",
       "2  The democracy index is using the data from the...           Percent   \n",
       "3                                                NaN           Percent   \n",
       "4  This is one of five subindexes of the democrac...           Percent   \n",
       "5  This is one of five subindexes of the democrac...           Percent   \n",
       "6  This is one of five subindexes of the democrac...           Percent   \n",
       "7  \"This is one of five subindexes of the democra...           Percent   \n",
       "8  The annual change of percentage points compare...           Percent   \n",
       "\n",
       "        topic  \n",
       "0  governance  \n",
       "1  governance  \n",
       "2  governance  \n",
       "3  governance  \n",
       "4  governance  \n",
       "5  governance  \n",
       "6  governance  \n",
       "7  governance  \n",
       "8  governance  "
      ]
     },
     "execution_count": 135,
     "metadata": {},
     "output_type": "execute_result"
    }
   ],
   "source": [
    "concepts"
   ]
  },
  {
   "cell_type": "code",
   "execution_count": 151,
   "metadata": {},
   "outputs": [],
   "source": [
    "concepts_geo = pd.read_csv('../source/ddf--gapminder--geo_entity_domain/ddf--concepts.csv')"
   ]
  },
  {
   "cell_type": "code",
   "execution_count": 154,
   "metadata": {},
   "outputs": [
    {
     "data": {
      "text/html": [
       "<div>\n",
       "<style scoped>\n",
       "    .dataframe tbody tr th:only-of-type {\n",
       "        vertical-align: middle;\n",
       "    }\n",
       "\n",
       "    .dataframe tbody tr th {\n",
       "        vertical-align: top;\n",
       "    }\n",
       "\n",
       "    .dataframe thead th {\n",
       "        text-align: right;\n",
       "    }\n",
       "</style>\n",
       "<table border=\"1\" class=\"dataframe\">\n",
       "  <thead>\n",
       "    <tr style=\"text-align: right;\">\n",
       "      <th></th>\n",
       "      <th>concept</th>\n",
       "      <th>name</th>\n",
       "      <th>concept_type</th>\n",
       "      <th>domain</th>\n",
       "      <th>indicator_url</th>\n",
       "      <th>color</th>\n",
       "      <th>drill_up</th>\n",
       "      <th>tags</th>\n",
       "    </tr>\n",
       "  </thead>\n",
       "  <tbody>\n",
       "    <tr>\n",
       "      <th>6</th>\n",
       "      <td>geo</td>\n",
       "      <td>Geographic location</td>\n",
       "      <td>entity_domain</td>\n",
       "      <td>NaN</td>\n",
       "      <td>https://github.com/open-numbers/ddf--gapminder...</td>\n",
       "      <td>NaN</td>\n",
       "      <td>NaN</td>\n",
       "      <td>_none</td>\n",
       "    </tr>\n",
       "    <tr>\n",
       "      <th>7</th>\n",
       "      <td>country</td>\n",
       "      <td>Country</td>\n",
       "      <td>entity_set</td>\n",
       "      <td>geo</td>\n",
       "      <td>https://github.com/open-numbers/ddf--gapminder...</td>\n",
       "      <td>NaN</td>\n",
       "      <td>[\"world_6region\", \"income_groups\", \"landlocked...</td>\n",
       "      <td>categorizations</td>\n",
       "    </tr>\n",
       "    <tr>\n",
       "      <th>11</th>\n",
       "      <td>world_4region</td>\n",
       "      <td>World Regions</td>\n",
       "      <td>entity_set</td>\n",
       "      <td>geo</td>\n",
       "      <td>https://docs.google.com/spreadsheet/pub?key=0A...</td>\n",
       "      <td>{\"shades\": {\"fill3\": 2, \"print_stroke\": 5, \"pr...</td>\n",
       "      <td>NaN</td>\n",
       "      <td>categorizations</td>\n",
       "    </tr>\n",
       "    <tr>\n",
       "      <th>14</th>\n",
       "      <td>global</td>\n",
       "      <td>World</td>\n",
       "      <td>entity_set</td>\n",
       "      <td>geo</td>\n",
       "      <td>NaN</td>\n",
       "      <td>NaN</td>\n",
       "      <td>NaN</td>\n",
       "      <td>_none</td>\n",
       "    </tr>\n",
       "  </tbody>\n",
       "</table>\n",
       "</div>"
      ],
      "text/plain": [
       "          concept                 name   concept_type domain  \\\n",
       "6             geo  Geographic location  entity_domain    NaN   \n",
       "7         country              Country     entity_set    geo   \n",
       "11  world_4region        World Regions     entity_set    geo   \n",
       "14         global                World     entity_set    geo   \n",
       "\n",
       "                                        indicator_url  \\\n",
       "6   https://github.com/open-numbers/ddf--gapminder...   \n",
       "7   https://github.com/open-numbers/ddf--gapminder...   \n",
       "11  https://docs.google.com/spreadsheet/pub?key=0A...   \n",
       "14                                                NaN   \n",
       "\n",
       "                                                color  \\\n",
       "6                                                 NaN   \n",
       "7                                                 NaN   \n",
       "11  {\"shades\": {\"fill3\": 2, \"print_stroke\": 5, \"pr...   \n",
       "14                                                NaN   \n",
       "\n",
       "                                             drill_up             tags  \n",
       "6                                                 NaN            _none  \n",
       "7   [\"world_6region\", \"income_groups\", \"landlocked...  categorizations  \n",
       "11                                                NaN  categorizations  \n",
       "14                                                NaN            _none  "
      ]
     },
     "execution_count": 154,
     "metadata": {},
     "output_type": "execute_result"
    }
   ],
   "source": [
    "concepts_geo[concepts_geo.concept.isin(['geo', 'country', 'world_4region', 'global'])].dropna(how='all', axis=1)"
   ]
  },
  {
   "cell_type": "code",
   "execution_count": 147,
   "metadata": {},
   "outputs": [],
   "source": [
    "concepts_ontology = pd.read_csv('../source/ddf--gapminder--ontology/ddf--concepts--discrete.csv')"
   ]
  },
  {
   "cell_type": "code",
   "execution_count": 155,
   "metadata": {},
   "outputs": [
    {
     "data": {
      "text/html": [
       "<div>\n",
       "<style scoped>\n",
       "    .dataframe tbody tr th:only-of-type {\n",
       "        vertical-align: middle;\n",
       "    }\n",
       "\n",
       "    .dataframe tbody tr th {\n",
       "        vertical-align: top;\n",
       "    }\n",
       "\n",
       "    .dataframe thead th {\n",
       "        text-align: right;\n",
       "    }\n",
       "</style>\n",
       "<table border=\"1\" class=\"dataframe\">\n",
       "  <thead>\n",
       "    <tr style=\"text-align: right;\">\n",
       "      <th></th>\n",
       "      <th>concept</th>\n",
       "      <th>name</th>\n",
       "      <th>concept_type</th>\n",
       "      <th>tags</th>\n",
       "    </tr>\n",
       "  </thead>\n",
       "  <tbody>\n",
       "    <tr>\n",
       "      <th>0</th>\n",
       "      <td>name</td>\n",
       "      <td>Name</td>\n",
       "      <td>string</td>\n",
       "      <td>_none</td>\n",
       "    </tr>\n",
       "    <tr>\n",
       "      <th>4</th>\n",
       "      <td>tags</td>\n",
       "      <td>Tags</td>\n",
       "      <td>string</td>\n",
       "      <td>_none</td>\n",
       "    </tr>\n",
       "    <tr>\n",
       "      <th>6</th>\n",
       "      <td>indicator_url</td>\n",
       "      <td>Indicator URL</td>\n",
       "      <td>string</td>\n",
       "      <td>_none</td>\n",
       "    </tr>\n",
       "    <tr>\n",
       "      <th>13</th>\n",
       "      <td>scales</td>\n",
       "      <td>Scales</td>\n",
       "      <td>string</td>\n",
       "      <td>_none</td>\n",
       "    </tr>\n",
       "  </tbody>\n",
       "</table>\n",
       "</div>"
      ],
      "text/plain": [
       "          concept           name concept_type   tags\n",
       "0            name           Name       string  _none\n",
       "4            tags           Tags       string  _none\n",
       "6   indicator_url  Indicator URL       string  _none\n",
       "13         scales         Scales       string  _none"
      ]
     },
     "execution_count": 155,
     "metadata": {},
     "output_type": "execute_result"
    }
   ],
   "source": [
    "concepts_ontology[concepts_ontology.concept.isin(concepts_geo.columns)]"
   ]
  },
  {
   "cell_type": "code",
   "execution_count": 156,
   "metadata": {},
   "outputs": [
    {
     "data": {
      "text/plain": [
       "array(['name', 'tag', 'name_short', 'name_catalog', 'tags', 'parent',\n",
       "       'indicator_url', 'description', 'description_long', 'source',\n",
       "       'source_long', 'source_url', 'time', 'scales'], dtype=object)"
      ]
     },
     "execution_count": 156,
     "metadata": {},
     "output_type": "execute_result"
    }
   ],
   "source": [
    "concepts_ontology.concept.values"
   ]
  },
  {
   "cell_type": "code",
   "execution_count": null,
   "metadata": {},
   "outputs": [],
   "source": []
  },
  {
   "cell_type": "code",
   "execution_count": null,
   "metadata": {},
   "outputs": [],
   "source": []
  },
  {
   "cell_type": "code",
   "execution_count": 157,
   "metadata": {},
   "outputs": [],
   "source": [
    "# concepts"
   ]
  },
  {
   "cell_type": "code",
   "execution_count": 183,
   "metadata": {},
   "outputs": [],
   "source": [
    "cdf = concepts.copy()\n",
    "cdf = cdf.rename(columns={'concept_id': 'concept'})\n",
    "cdf = cdf.set_index('concept')"
   ]
  },
  {
   "cell_type": "code",
   "execution_count": 184,
   "metadata": {},
   "outputs": [],
   "source": [
    "cdf = cdf.drop(['version', 'updated', 'topic'], axis=1)"
   ]
  },
  {
   "cell_type": "code",
   "execution_count": 203,
   "metadata": {},
   "outputs": [],
   "source": [
    "ddf_1 = concepts_geo"
   ]
  },
  {
   "cell_type": "code",
   "execution_count": 204,
   "metadata": {},
   "outputs": [],
   "source": [
    "ddf_1 = ddf_1[ddf_1.concept_type.isin(['entity_domain', 'entity_set', 'string'])].copy()"
   ]
  },
  {
   "cell_type": "code",
   "execution_count": 205,
   "metadata": {},
   "outputs": [],
   "source": [
    "ddf_1 = ddf_1.set_index('concept')"
   ]
  },
  {
   "cell_type": "code",
   "execution_count": 206,
   "metadata": {},
   "outputs": [],
   "source": [
    "cdf_full_1 = pd.concat([cdf, ddf_1], sort=False)"
   ]
  },
  {
   "cell_type": "code",
   "execution_count": 208,
   "metadata": {},
   "outputs": [
    {
     "data": {
      "text/plain": [
       "False"
      ]
     },
     "execution_count": 208,
     "metadata": {},
     "output_type": "execute_result"
    }
   ],
   "source": [
    "cdf_full_1.index.has_duplicates"
   ]
  },
  {
   "cell_type": "code",
   "execution_count": null,
   "metadata": {},
   "outputs": [],
   "source": []
  },
  {
   "cell_type": "code",
   "execution_count": 209,
   "metadata": {},
   "outputs": [],
   "source": [
    "cdf_full_2 = concepts_ontology[concepts_ontology.concept.isin(cdf_full_1.columns)]"
   ]
  },
  {
   "cell_type": "code",
   "execution_count": 210,
   "metadata": {},
   "outputs": [],
   "source": [
    "cdf_full_2 = cdf_full_2.set_index('concept')"
   ]
  },
  {
   "cell_type": "code",
   "execution_count": 211,
   "metadata": {},
   "outputs": [],
   "source": [
    "cdf_full = pd.concat([cdf_full_1, cdf_full_2], sort=False)"
   ]
  },
  {
   "cell_type": "code",
   "execution_count": 212,
   "metadata": {},
   "outputs": [
    {
     "data": {
      "text/plain": [
       "False"
      ]
     },
     "execution_count": 212,
     "metadata": {},
     "output_type": "execute_result"
    }
   ],
   "source": [
    "cdf_full_1.index.has_duplicates"
   ]
  },
  {
   "cell_type": "code",
   "execution_count": 213,
   "metadata": {},
   "outputs": [
    {
     "data": {
      "text/html": [
       "<div>\n",
       "<style scoped>\n",
       "    .dataframe tbody tr th:only-of-type {\n",
       "        vertical-align: middle;\n",
       "    }\n",
       "\n",
       "    .dataframe tbody tr th {\n",
       "        vertical-align: top;\n",
       "    }\n",
       "\n",
       "    .dataframe thead th {\n",
       "        text-align: right;\n",
       "    }\n",
       "</style>\n",
       "<table border=\"1\" class=\"dataframe\">\n",
       "  <thead>\n",
       "    <tr style=\"text-align: right;\">\n",
       "      <th></th>\n",
       "      <th>concept_type</th>\n",
       "      <th>source_url</th>\n",
       "      <th>name_short</th>\n",
       "      <th>name</th>\n",
       "      <th>description</th>\n",
       "      <th>unit</th>\n",
       "      <th>domain</th>\n",
       "      <th>indicator_url</th>\n",
       "      <th>color</th>\n",
       "      <th>scales</th>\n",
       "      <th>drill_up</th>\n",
       "      <th>tags</th>\n",
       "    </tr>\n",
       "    <tr>\n",
       "      <th>concept</th>\n",
       "      <th></th>\n",
       "      <th></th>\n",
       "      <th></th>\n",
       "      <th></th>\n",
       "      <th></th>\n",
       "      <th></th>\n",
       "      <th></th>\n",
       "      <th></th>\n",
       "      <th></th>\n",
       "      <th></th>\n",
       "      <th></th>\n",
       "      <th></th>\n",
       "    </tr>\n",
       "  </thead>\n",
       "  <tbody>\n",
       "    <tr>\n",
       "      <th>democrperc</th>\n",
       "      <td>measure</td>\n",
       "      <td>https://docs.google.com/spreadsheets/d/1km9lsO...</td>\n",
       "      <td>Democracy share</td>\n",
       "      <td>Share of population living in democracies</td>\n",
       "      <td>The sum of populations in all countries categi...</td>\n",
       "      <td>Percent</td>\n",
       "      <td>NaN</td>\n",
       "      <td>NaN</td>\n",
       "      <td>NaN</td>\n",
       "      <td>NaN</td>\n",
       "      <td>NaN</td>\n",
       "      <td>NaN</td>\n",
       "    </tr>\n",
       "    <tr>\n",
       "      <th>democrpop</th>\n",
       "      <td>measure</td>\n",
       "      <td>https://docs.google.com/spreadsheets/d/1km9lsO...</td>\n",
       "      <td>Democracy population</td>\n",
       "      <td>Number of people living in democracies</td>\n",
       "      <td>The sum of population of all countries categir...</td>\n",
       "      <td>Number of people</td>\n",
       "      <td>NaN</td>\n",
       "      <td>NaN</td>\n",
       "      <td>NaN</td>\n",
       "      <td>NaN</td>\n",
       "      <td>NaN</td>\n",
       "      <td>NaN</td>\n",
       "    </tr>\n",
       "    <tr>\n",
       "      <th>democrix</th>\n",
       "      <td>measure</td>\n",
       "      <td>https://docs.google.com/spreadsheets/d/1d0noZr...</td>\n",
       "      <td>Democracy index</td>\n",
       "      <td>Quality of the democracy</td>\n",
       "      <td>The democracy index is using the data from the...</td>\n",
       "      <td>Percent</td>\n",
       "      <td>NaN</td>\n",
       "      <td>NaN</td>\n",
       "      <td>NaN</td>\n",
       "      <td>NaN</td>\n",
       "      <td>NaN</td>\n",
       "      <td>NaN</td>\n",
       "    </tr>\n",
       "    <tr>\n",
       "      <th>democrixelect</th>\n",
       "      <td>measure</td>\n",
       "      <td>https://docs.google.com/spreadsheets/d/1d0noZr...</td>\n",
       "      <td>Electoral pluralism index</td>\n",
       "      <td>Index of the electoral process and pluralism</td>\n",
       "      <td>NaN</td>\n",
       "      <td>Percent</td>\n",
       "      <td>NaN</td>\n",
       "      <td>NaN</td>\n",
       "      <td>NaN</td>\n",
       "      <td>NaN</td>\n",
       "      <td>NaN</td>\n",
       "      <td>NaN</td>\n",
       "    </tr>\n",
       "    <tr>\n",
       "      <th>democrixgov</th>\n",
       "      <td>measure</td>\n",
       "      <td>https://docs.google.com/spreadsheets/d/1d0noZr...</td>\n",
       "      <td>Government index</td>\n",
       "      <td>Index of the functioning of government</td>\n",
       "      <td>This is one of five subindexes of the democrac...</td>\n",
       "      <td>Percent</td>\n",
       "      <td>NaN</td>\n",
       "      <td>NaN</td>\n",
       "      <td>NaN</td>\n",
       "      <td>NaN</td>\n",
       "      <td>NaN</td>\n",
       "      <td>NaN</td>\n",
       "    </tr>\n",
       "    <tr>\n",
       "      <th>...</th>\n",
       "      <td>...</td>\n",
       "      <td>...</td>\n",
       "      <td>...</td>\n",
       "      <td>...</td>\n",
       "      <td>...</td>\n",
       "      <td>...</td>\n",
       "      <td>...</td>\n",
       "      <td>...</td>\n",
       "      <td>...</td>\n",
       "      <td>...</td>\n",
       "      <td>...</td>\n",
       "      <td>...</td>\n",
       "    </tr>\n",
       "    <tr>\n",
       "      <th>tags</th>\n",
       "      <td>string</td>\n",
       "      <td>NaN</td>\n",
       "      <td>NaN</td>\n",
       "      <td>Tags</td>\n",
       "      <td>NaN</td>\n",
       "      <td>NaN</td>\n",
       "      <td>NaN</td>\n",
       "      <td>NaN</td>\n",
       "      <td>NaN</td>\n",
       "      <td>NaN</td>\n",
       "      <td>NaN</td>\n",
       "      <td>_none</td>\n",
       "    </tr>\n",
       "    <tr>\n",
       "      <th>indicator_url</th>\n",
       "      <td>string</td>\n",
       "      <td>NaN</td>\n",
       "      <td>NaN</td>\n",
       "      <td>Indicator URL</td>\n",
       "      <td>NaN</td>\n",
       "      <td>NaN</td>\n",
       "      <td>NaN</td>\n",
       "      <td>NaN</td>\n",
       "      <td>NaN</td>\n",
       "      <td>NaN</td>\n",
       "      <td>NaN</td>\n",
       "      <td>_none</td>\n",
       "    </tr>\n",
       "    <tr>\n",
       "      <th>description</th>\n",
       "      <td>string</td>\n",
       "      <td>NaN</td>\n",
       "      <td>NaN</td>\n",
       "      <td>Description</td>\n",
       "      <td>NaN</td>\n",
       "      <td>NaN</td>\n",
       "      <td>NaN</td>\n",
       "      <td>NaN</td>\n",
       "      <td>NaN</td>\n",
       "      <td>NaN</td>\n",
       "      <td>NaN</td>\n",
       "      <td>_none</td>\n",
       "    </tr>\n",
       "    <tr>\n",
       "      <th>source_url</th>\n",
       "      <td>string</td>\n",
       "      <td>NaN</td>\n",
       "      <td>NaN</td>\n",
       "      <td>Source URL</td>\n",
       "      <td>NaN</td>\n",
       "      <td>NaN</td>\n",
       "      <td>NaN</td>\n",
       "      <td>NaN</td>\n",
       "      <td>NaN</td>\n",
       "      <td>NaN</td>\n",
       "      <td>NaN</td>\n",
       "      <td>_none</td>\n",
       "    </tr>\n",
       "    <tr>\n",
       "      <th>scales</th>\n",
       "      <td>string</td>\n",
       "      <td>NaN</td>\n",
       "      <td>NaN</td>\n",
       "      <td>Scales</td>\n",
       "      <td>NaN</td>\n",
       "      <td>NaN</td>\n",
       "      <td>NaN</td>\n",
       "      <td>NaN</td>\n",
       "      <td>NaN</td>\n",
       "      <td>NaN</td>\n",
       "      <td>NaN</td>\n",
       "      <td>_none</td>\n",
       "    </tr>\n",
       "  </tbody>\n",
       "</table>\n",
       "<p>59 rows × 12 columns</p>\n",
       "</div>"
      ],
      "text/plain": [
       "              concept_type                                         source_url  \\\n",
       "concept                                                                         \n",
       "democrperc         measure  https://docs.google.com/spreadsheets/d/1km9lsO...   \n",
       "democrpop          measure  https://docs.google.com/spreadsheets/d/1km9lsO...   \n",
       "democrix           measure  https://docs.google.com/spreadsheets/d/1d0noZr...   \n",
       "democrixelect      measure  https://docs.google.com/spreadsheets/d/1d0noZr...   \n",
       "democrixgov        measure  https://docs.google.com/spreadsheets/d/1d0noZr...   \n",
       "...                    ...                                                ...   \n",
       "tags                string                                                NaN   \n",
       "indicator_url       string                                                NaN   \n",
       "description         string                                                NaN   \n",
       "source_url          string                                                NaN   \n",
       "scales              string                                                NaN   \n",
       "\n",
       "                              name_short  \\\n",
       "concept                                    \n",
       "democrperc               Democracy share   \n",
       "democrpop           Democracy population   \n",
       "democrix                 Democracy index   \n",
       "democrixelect  Electoral pluralism index   \n",
       "democrixgov             Government index   \n",
       "...                                  ...   \n",
       "tags                                 NaN   \n",
       "indicator_url                        NaN   \n",
       "description                          NaN   \n",
       "source_url                           NaN   \n",
       "scales                               NaN   \n",
       "\n",
       "                                                       name  \\\n",
       "concept                                                       \n",
       "democrperc        Share of population living in democracies   \n",
       "democrpop            Number of people living in democracies   \n",
       "democrix                           Quality of the democracy   \n",
       "democrixelect  Index of the electoral process and pluralism   \n",
       "democrixgov          Index of the functioning of government   \n",
       "...                                                     ...   \n",
       "tags                                                   Tags   \n",
       "indicator_url                                 Indicator URL   \n",
       "description                                     Description   \n",
       "source_url                                       Source URL   \n",
       "scales                                               Scales   \n",
       "\n",
       "                                                     description  \\\n",
       "concept                                                            \n",
       "democrperc     The sum of populations in all countries categi...   \n",
       "democrpop      The sum of population of all countries categir...   \n",
       "democrix       The democracy index is using the data from the...   \n",
       "democrixelect                                                NaN   \n",
       "democrixgov    This is one of five subindexes of the democrac...   \n",
       "...                                                          ...   \n",
       "tags                                                         NaN   \n",
       "indicator_url                                                NaN   \n",
       "description                                                  NaN   \n",
       "source_url                                                   NaN   \n",
       "scales                                                       NaN   \n",
       "\n",
       "                           unit domain indicator_url color scales drill_up  \\\n",
       "concept                                                                      \n",
       "democrperc              Percent    NaN           NaN   NaN    NaN      NaN   \n",
       "democrpop      Number of people    NaN           NaN   NaN    NaN      NaN   \n",
       "democrix                Percent    NaN           NaN   NaN    NaN      NaN   \n",
       "democrixelect           Percent    NaN           NaN   NaN    NaN      NaN   \n",
       "democrixgov             Percent    NaN           NaN   NaN    NaN      NaN   \n",
       "...                         ...    ...           ...   ...    ...      ...   \n",
       "tags                        NaN    NaN           NaN   NaN    NaN      NaN   \n",
       "indicator_url               NaN    NaN           NaN   NaN    NaN      NaN   \n",
       "description                 NaN    NaN           NaN   NaN    NaN      NaN   \n",
       "source_url                  NaN    NaN           NaN   NaN    NaN      NaN   \n",
       "scales                      NaN    NaN           NaN   NaN    NaN      NaN   \n",
       "\n",
       "                tags  \n",
       "concept               \n",
       "democrperc       NaN  \n",
       "democrpop        NaN  \n",
       "democrix         NaN  \n",
       "democrixelect    NaN  \n",
       "democrixgov      NaN  \n",
       "...              ...  \n",
       "tags           _none  \n",
       "indicator_url  _none  \n",
       "description    _none  \n",
       "source_url     _none  \n",
       "scales         _none  \n",
       "\n",
       "[59 rows x 12 columns]"
      ]
     },
     "execution_count": 213,
     "metadata": {},
     "output_type": "execute_result"
    }
   ],
   "source": [
    "cdf_full"
   ]
  },
  {
   "cell_type": "code",
   "execution_count": 214,
   "metadata": {},
   "outputs": [],
   "source": [
    "cdf_full.to_csv('../../ddf--concepts.csv')"
   ]
  },
  {
   "cell_type": "code",
   "execution_count": null,
   "metadata": {},
   "outputs": [],
   "source": []
  },
  {
   "cell_type": "code",
   "execution_count": 197,
   "metadata": {},
   "outputs": [],
   "source": [
    "# ['geo', 'country', 'world_4region', 'global']"
   ]
  },
  {
   "cell_type": "code",
   "execution_count": 202,
   "metadata": {},
   "outputs": [],
   "source": [
    "!cp ../source/ddf--gapminder--geo_entity_domain/ddf--entities--geo--country.csv ../../\n",
    "!cp ../source/ddf--gapminder--geo_entity_domain/ddf--entities--geo--world_4region.csv ../../\n",
    "!cp ../source/ddf--gapminder--geo_entity_domain/ddf--entities--geo--global.csv ../../"
   ]
  },
  {
   "cell_type": "code",
   "execution_count": null,
   "metadata": {},
   "outputs": [],
   "source": []
  },
  {
   "cell_type": "code",
   "execution_count": null,
   "metadata": {},
   "outputs": [],
   "source": []
  },
  {
   "cell_type": "code",
   "execution_count": null,
   "metadata": {},
   "outputs": [],
   "source": []
  },
  {
   "cell_type": "code",
   "execution_count": null,
   "metadata": {},
   "outputs": [],
   "source": []
  },
  {
   "cell_type": "code",
   "execution_count": null,
   "metadata": {},
   "outputs": [],
   "source": [
    "# drafts"
   ]
  },
  {
   "cell_type": "code",
   "execution_count": 35,
   "metadata": {},
   "outputs": [],
   "source": [
    "df1 = pd.read_csv(datapoints.csv_link.values[-2])"
   ]
  },
  {
   "cell_type": "code",
   "execution_count": 36,
   "metadata": {},
   "outputs": [
    {
     "data": {
      "text/html": [
       "<div>\n",
       "<style scoped>\n",
       "    .dataframe tbody tr th:only-of-type {\n",
       "        vertical-align: middle;\n",
       "    }\n",
       "\n",
       "    .dataframe tbody tr th {\n",
       "        vertical-align: top;\n",
       "    }\n",
       "\n",
       "    .dataframe thead th {\n",
       "        text-align: right;\n",
       "    }\n",
       "</style>\n",
       "<table border=\"1\" class=\"dataframe\">\n",
       "  <thead>\n",
       "    <tr style=\"text-align: right;\">\n",
       "      <th></th>\n",
       "      <th>geo</th>\n",
       "      <th>name</th>\n",
       "      <th>time</th>\n",
       "      <th>Democracy index</th>\n",
       "      <th>Electoral pluralism index</th>\n",
       "      <th>Government index</th>\n",
       "      <th>Political participation index</th>\n",
       "      <th>Political culture index</th>\n",
       "      <th>Civil liberties index</th>\n",
       "      <th>Change in democracy index</th>\n",
       "    </tr>\n",
       "  </thead>\n",
       "  <tbody>\n",
       "    <tr>\n",
       "      <th>1</th>\n",
       "      <td>world</td>\n",
       "      <td>World</td>\n",
       "      <td>2007</td>\n",
       "      <td>55.7</td>\n",
       "      <td>56.8</td>\n",
       "      <td>57.8</td>\n",
       "      <td>44.7</td>\n",
       "      <td>59.9</td>\n",
       "      <td>59.5</td>\n",
       "      <td>0.1</td>\n",
       "    </tr>\n",
       "    <tr>\n",
       "      <th>2</th>\n",
       "      <td>world</td>\n",
       "      <td>World</td>\n",
       "      <td>2008</td>\n",
       "      <td>55.8</td>\n",
       "      <td>56.7</td>\n",
       "      <td>58.4</td>\n",
       "      <td>44.8</td>\n",
       "      <td>59.9</td>\n",
       "      <td>59.5</td>\n",
       "      <td>0.1</td>\n",
       "    </tr>\n",
       "    <tr>\n",
       "      <th>3</th>\n",
       "      <td>world</td>\n",
       "      <td>World</td>\n",
       "      <td>2009</td>\n",
       "      <td>55.2</td>\n",
       "      <td>56.4</td>\n",
       "      <td>58.9</td>\n",
       "      <td>45.1</td>\n",
       "      <td>56.5</td>\n",
       "      <td>59.2</td>\n",
       "      <td>-0.7</td>\n",
       "    </tr>\n",
       "    <tr>\n",
       "      <th>4</th>\n",
       "      <td>world</td>\n",
       "      <td>World</td>\n",
       "      <td>2010</td>\n",
       "      <td>54.5</td>\n",
       "      <td>56.0</td>\n",
       "      <td>59.3</td>\n",
       "      <td>45.3</td>\n",
       "      <td>53.0</td>\n",
       "      <td>58.8</td>\n",
       "      <td>-0.7</td>\n",
       "    </tr>\n",
       "    <tr>\n",
       "      <th>5</th>\n",
       "      <td>world</td>\n",
       "      <td>World</td>\n",
       "      <td>2011</td>\n",
       "      <td>54.6</td>\n",
       "      <td>56.4</td>\n",
       "      <td>57.0</td>\n",
       "      <td>47.1</td>\n",
       "      <td>54.1</td>\n",
       "      <td>58.7</td>\n",
       "      <td>0.1</td>\n",
       "    </tr>\n",
       "    <tr>\n",
       "      <th>6</th>\n",
       "      <td>world</td>\n",
       "      <td>World</td>\n",
       "      <td>2012</td>\n",
       "      <td>54.9</td>\n",
       "      <td>56.6</td>\n",
       "      <td>56.3</td>\n",
       "      <td>50.0</td>\n",
       "      <td>52.6</td>\n",
       "      <td>59.2</td>\n",
       "      <td>0.3</td>\n",
       "    </tr>\n",
       "    <tr>\n",
       "      <th>7</th>\n",
       "      <td>world</td>\n",
       "      <td>World</td>\n",
       "      <td>2013</td>\n",
       "      <td>55.2</td>\n",
       "      <td>56.5</td>\n",
       "      <td>54.9</td>\n",
       "      <td>52.2</td>\n",
       "      <td>53.7</td>\n",
       "      <td>58.7</td>\n",
       "      <td>0.3</td>\n",
       "    </tr>\n",
       "    <tr>\n",
       "      <th>8</th>\n",
       "      <td>world</td>\n",
       "      <td>World</td>\n",
       "      <td>2014</td>\n",
       "      <td>55.6</td>\n",
       "      <td>55.9</td>\n",
       "      <td>54.4</td>\n",
       "      <td>53.3</td>\n",
       "      <td>55.6</td>\n",
       "      <td>58.8</td>\n",
       "      <td>0.4</td>\n",
       "    </tr>\n",
       "    <tr>\n",
       "      <th>9</th>\n",
       "      <td>world</td>\n",
       "      <td>World</td>\n",
       "      <td>2015</td>\n",
       "      <td>55.6</td>\n",
       "      <td>56.2</td>\n",
       "      <td>54.6</td>\n",
       "      <td>53.0</td>\n",
       "      <td>56.5</td>\n",
       "      <td>57.7</td>\n",
       "      <td>0.0</td>\n",
       "    </tr>\n",
       "    <tr>\n",
       "      <th>10</th>\n",
       "      <td>world</td>\n",
       "      <td>World</td>\n",
       "      <td>2016</td>\n",
       "      <td>55.5</td>\n",
       "      <td>56.0</td>\n",
       "      <td>54.9</td>\n",
       "      <td>53.2</td>\n",
       "      <td>56.2</td>\n",
       "      <td>56.9</td>\n",
       "      <td>-0.2</td>\n",
       "    </tr>\n",
       "    <tr>\n",
       "      <th>11</th>\n",
       "      <td>world</td>\n",
       "      <td>World</td>\n",
       "      <td>2017</td>\n",
       "      <td>53.6</td>\n",
       "      <td>54.7</td>\n",
       "      <td>53.9</td>\n",
       "      <td>52.1</td>\n",
       "      <td>55.9</td>\n",
       "      <td>51.6</td>\n",
       "      <td>-1.8</td>\n",
       "    </tr>\n",
       "  </tbody>\n",
       "</table>\n",
       "</div>"
      ],
      "text/plain": [
       "      geo   name  time  Democracy index  Electoral pluralism index  \\\n",
       "1   world  World  2007             55.7                       56.8   \n",
       "2   world  World  2008             55.8                       56.7   \n",
       "3   world  World  2009             55.2                       56.4   \n",
       "4   world  World  2010             54.5                       56.0   \n",
       "5   world  World  2011             54.6                       56.4   \n",
       "6   world  World  2012             54.9                       56.6   \n",
       "7   world  World  2013             55.2                       56.5   \n",
       "8   world  World  2014             55.6                       55.9   \n",
       "9   world  World  2015             55.6                       56.2   \n",
       "10  world  World  2016             55.5                       56.0   \n",
       "11  world  World  2017             53.6                       54.7   \n",
       "\n",
       "    Government index  Political participation index  Political culture index  \\\n",
       "1               57.8                           44.7                     59.9   \n",
       "2               58.4                           44.8                     59.9   \n",
       "3               58.9                           45.1                     56.5   \n",
       "4               59.3                           45.3                     53.0   \n",
       "5               57.0                           47.1                     54.1   \n",
       "6               56.3                           50.0                     52.6   \n",
       "7               54.9                           52.2                     53.7   \n",
       "8               54.4                           53.3                     55.6   \n",
       "9               54.6                           53.0                     56.5   \n",
       "10              54.9                           53.2                     56.2   \n",
       "11              53.9                           52.1                     55.9   \n",
       "\n",
       "    Civil liberties index  Change in democracy index  \n",
       "1                    59.5                        0.1  \n",
       "2                    59.5                        0.1  \n",
       "3                    59.2                       -0.7  \n",
       "4                    58.8                       -0.7  \n",
       "5                    58.7                        0.1  \n",
       "6                    59.2                        0.3  \n",
       "7                    58.7                        0.3  \n",
       "8                    58.8                        0.4  \n",
       "9                    57.7                        0.0  \n",
       "10                   56.9                       -0.2  \n",
       "11                   51.6                       -1.8  "
      ]
     },
     "execution_count": 36,
     "metadata": {},
     "output_type": "execute_result"
    }
   ],
   "source": [
    "df1.dropna()"
   ]
  },
  {
   "cell_type": "code",
   "execution_count": 33,
   "metadata": {},
   "outputs": [
    {
     "data": {
      "text/plain": [
       "'https://docs.google.com/spreadsheets/d/1km9lsO1FxYBRMpG244HGevtLUSR9JLCTqRAYICyPZ8k/gviz/tq?tqx=out:csv&sheet=data-1-democracy-share-of-world-by-year'"
      ]
     },
     "execution_count": 33,
     "metadata": {},
     "output_type": "execute_result"
    }
   ],
   "source": [
    "datapoints.csv_link.values[0]"
   ]
  },
  {
   "cell_type": "code",
   "execution_count": 37,
   "metadata": {
    "scrolled": false
   },
   "outputs": [
    {
     "data": {
      "text/plain": [
       "0            [geo:global,time:year]\n",
       "1            [geo:global,time:year]\n",
       "2         [geo:countries,time:year]\n",
       "3         [geo:countries,time:year]\n",
       "4         [geo:countries,time:year]\n",
       "5         [geo:countries,time:year]\n",
       "6         [geo:countries,time:year]\n",
       "7         [geo:countries,time:year]\n",
       "8            [geo:global,time:year]\n",
       "9            [geo:global,time:year]\n",
       "10           [geo:global,time:year]\n",
       "11           [geo:global,time:year]\n",
       "12           [geo:global,time:year]\n",
       "13           [geo:global,time:year]\n",
       "14    [geo:world_4region,time:year]\n",
       "15    [geo:world_4region,time:year]\n",
       "16    [geo:world_4region,time:year]\n",
       "17    [geo:world_4region,time:year]\n",
       "18    [geo:world_4region,time:year]\n",
       "19    [geo:world_4region,time:year]\n",
       "20        [geo:countries,time:year]\n",
       "21           [geo:global,time:year]\n",
       "22    [geo:world_4region,time:year]\n",
       "Name: dimensions, dtype: object"
      ]
     },
     "execution_count": 37,
     "metadata": {},
     "output_type": "execute_result"
    }
   ],
   "source": [
    "datapoints.dimensions"
   ]
  },
  {
   "cell_type": "code",
   "execution_count": 26,
   "metadata": {},
   "outputs": [],
   "source": [
    "import parse"
   ]
  },
  {
   "cell_type": "code",
   "execution_count": 5,
   "metadata": {},
   "outputs": [
    {
     "data": {
      "text/plain": [
       "<parse.ResultIterator at 0x10be91390>"
      ]
     },
     "execution_count": 5,
     "metadata": {},
     "output_type": "execute_result"
    }
   ],
   "source": [
    "parse.findall(\"{:w}:{:w}\", \"geo:world_4region,time:year\")"
   ]
  },
  {
   "cell_type": "code",
   "execution_count": 10,
   "metadata": {},
   "outputs": [
    {
     "name": "stdout",
     "output_type": "stream",
     "text": [
      "{'key': 'geo', 'value': 'world_4region'}\n",
      "{'key': 'time', 'value': 'year'}\n"
     ]
    }
   ],
   "source": [
    "for r in parse.findall(\"{key:w}:{value:w}\", \"[geo:world_4region,time:year]\"):\n",
    "    print(r.named)"
   ]
  },
  {
   "cell_type": "code",
   "execution_count": 71,
   "metadata": {},
   "outputs": [
    {
     "name": "stdout",
     "output_type": "stream",
     "text": [
      "('geo', 'world_4region')\n",
      "('time', 'year')\n"
     ]
    }
   ],
   "source": [
    "for r in parse.findall(\"{:w}:{:w}\", \"[geo:world_4region,time:year]\"):\n",
    "    print(r.fixed)"
   ]
  },
  {
   "cell_type": "code",
   "execution_count": 56,
   "metadata": {},
   "outputs": [
    {
     "data": {
      "text/plain": [
       "{'docid': '1km9lsO1FxYBRMpG244HGevtLUSR9JLCTqRAYICyPZ8k',\n",
       " 'sheet_name': 'data-2-democracy-pop-of-world-by-year'}"
      ]
     },
     "execution_count": 56,
     "metadata": {},
     "output_type": "execute_result"
    }
   ],
   "source": [
    "parse.parse(\"https://docs.google.com/spreadsheets/d/{docid}/gviz/tq?tqx=out:csv&sheet={sheet_name}\", csv_url).named"
   ]
  },
  {
   "cell_type": "code",
   "execution_count": 93,
   "metadata": {},
   "outputs": [
    {
     "ename": "ValueError",
     "evalue": "could not convert string to float: '2,333'",
     "output_type": "error",
     "traceback": [
      "\u001b[0;31m---------------------------------------------------------------------------\u001b[0m",
      "\u001b[0;31mValueError\u001b[0m                                Traceback (most recent call last)",
      "\u001b[0;32m<ipython-input-93-cd4ea9c5925e>\u001b[0m in \u001b[0;36m<module>\u001b[0;34m()\u001b[0m\n\u001b[0;32m----> 1\u001b[0;31m \u001b[0mfloat\u001b[0m\u001b[0;34m(\u001b[0m\u001b[0;34m\"2,333\"\u001b[0m\u001b[0;34m)\u001b[0m\u001b[0;34m\u001b[0m\u001b[0m\n\u001b[0m",
      "\u001b[0;31mValueError\u001b[0m: could not convert string to float: '2,333'"
     ]
    }
   ],
   "source": [
    "float(\"2,333\")"
   ]
  },
  {
   "cell_type": "code",
   "execution_count": 243,
   "metadata": {},
   "outputs": [],
   "source": [
    "cdf4 = pd.DataFrame([['time', 'Time', 'time'],\n",
    "                         ['version', 'Version', 'string'],\n",
    "                         ['updated', 'Updated', 'string']], columns=['concept', 'name', 'concept_type'])\n"
   ]
  },
  {
   "cell_type": "code",
   "execution_count": 244,
   "metadata": {},
   "outputs": [
    {
     "data": {
      "text/html": [
       "<div>\n",
       "<style scoped>\n",
       "    .dataframe tbody tr th:only-of-type {\n",
       "        vertical-align: middle;\n",
       "    }\n",
       "\n",
       "    .dataframe tbody tr th {\n",
       "        vertical-align: top;\n",
       "    }\n",
       "\n",
       "    .dataframe thead th {\n",
       "        text-align: right;\n",
       "    }\n",
       "</style>\n",
       "<table border=\"1\" class=\"dataframe\">\n",
       "  <thead>\n",
       "    <tr style=\"text-align: right;\">\n",
       "      <th></th>\n",
       "      <th>concept</th>\n",
       "      <th>name</th>\n",
       "      <th>concept_type</th>\n",
       "    </tr>\n",
       "  </thead>\n",
       "  <tbody>\n",
       "    <tr>\n",
       "      <th>0</th>\n",
       "      <td>time</td>\n",
       "      <td>Time</td>\n",
       "      <td>time</td>\n",
       "    </tr>\n",
       "    <tr>\n",
       "      <th>1</th>\n",
       "      <td>version</td>\n",
       "      <td>Version</td>\n",
       "      <td>string</td>\n",
       "    </tr>\n",
       "    <tr>\n",
       "      <th>2</th>\n",
       "      <td>updated</td>\n",
       "      <td>Updated</td>\n",
       "      <td>string</td>\n",
       "    </tr>\n",
       "  </tbody>\n",
       "</table>\n",
       "</div>"
      ],
      "text/plain": [
       "   concept     name concept_type\n",
       "0     time     Time         time\n",
       "1  version  Version       string\n",
       "2  updated  Updated       string"
      ]
     },
     "execution_count": 244,
     "metadata": {},
     "output_type": "execute_result"
    }
   ],
   "source": [
    "cdf4"
   ]
  },
  {
   "cell_type": "code",
   "execution_count": 245,
   "metadata": {},
   "outputs": [],
   "source": [
    "cdf4 = cdf4.set_index('concept')"
   ]
  },
  {
   "cell_type": "code",
   "execution_count": 248,
   "metadata": {},
   "outputs": [
    {
     "ename": "KeyError",
     "evalue": "Index(['time', 'updated', 'version'], dtype='object')",
     "output_type": "error",
     "traceback": [
      "\u001b[0;31m---------------------------------------------------------------------------\u001b[0m",
      "\u001b[0;31mKeyError\u001b[0m                                  Traceback (most recent call last)",
      "\u001b[0;32m<ipython-input-248-24611c5a061d>\u001b[0m in \u001b[0;36m<module>\u001b[0;34m()\u001b[0m\n\u001b[0;32m----> 1\u001b[0;31m \u001b[0mcdf4\u001b[0m\u001b[0;34m.\u001b[0m\u001b[0mdrop_duplicates\u001b[0m\u001b[0;34m(\u001b[0m\u001b[0msubset\u001b[0m\u001b[0;34m=\u001b[0m\u001b[0mcdf4\u001b[0m\u001b[0;34m.\u001b[0m\u001b[0mindex\u001b[0m\u001b[0;34m)\u001b[0m\u001b[0;34m\u001b[0m\u001b[0m\n\u001b[0m",
      "\u001b[0;32m~/.pyenv/versions/3.6.5/Python.framework/Versions/3.6/lib/python3.6/site-packages/pandas/core/frame.py\u001b[0m in \u001b[0;36mdrop_duplicates\u001b[0;34m(self, subset, keep, inplace)\u001b[0m\n\u001b[1;32m   4329\u001b[0m         \"\"\"\n\u001b[1;32m   4330\u001b[0m         \u001b[0minplace\u001b[0m \u001b[0;34m=\u001b[0m \u001b[0mvalidate_bool_kwarg\u001b[0m\u001b[0;34m(\u001b[0m\u001b[0minplace\u001b[0m\u001b[0;34m,\u001b[0m \u001b[0;34m'inplace'\u001b[0m\u001b[0;34m)\u001b[0m\u001b[0;34m\u001b[0m\u001b[0m\n\u001b[0;32m-> 4331\u001b[0;31m         \u001b[0mduplicated\u001b[0m \u001b[0;34m=\u001b[0m \u001b[0mself\u001b[0m\u001b[0;34m.\u001b[0m\u001b[0mduplicated\u001b[0m\u001b[0;34m(\u001b[0m\u001b[0msubset\u001b[0m\u001b[0;34m,\u001b[0m \u001b[0mkeep\u001b[0m\u001b[0;34m=\u001b[0m\u001b[0mkeep\u001b[0m\u001b[0;34m)\u001b[0m\u001b[0;34m\u001b[0m\u001b[0m\n\u001b[0m\u001b[1;32m   4332\u001b[0m \u001b[0;34m\u001b[0m\u001b[0m\n\u001b[1;32m   4333\u001b[0m         \u001b[0;32mif\u001b[0m \u001b[0minplace\u001b[0m\u001b[0;34m:\u001b[0m\u001b[0;34m\u001b[0m\u001b[0m\n",
      "\u001b[0;32m~/.pyenv/versions/3.6.5/Python.framework/Versions/3.6/lib/python3.6/site-packages/pandas/core/frame.py\u001b[0m in \u001b[0;36mduplicated\u001b[0;34m(self, subset, keep)\u001b[0m\n\u001b[1;32m   4379\u001b[0m         \u001b[0mdiff\u001b[0m \u001b[0;34m=\u001b[0m \u001b[0mIndex\u001b[0m\u001b[0;34m(\u001b[0m\u001b[0msubset\u001b[0m\u001b[0;34m)\u001b[0m\u001b[0;34m.\u001b[0m\u001b[0mdifference\u001b[0m\u001b[0;34m(\u001b[0m\u001b[0mself\u001b[0m\u001b[0;34m.\u001b[0m\u001b[0mcolumns\u001b[0m\u001b[0;34m)\u001b[0m\u001b[0;34m\u001b[0m\u001b[0m\n\u001b[1;32m   4380\u001b[0m         \u001b[0;32mif\u001b[0m \u001b[0;32mnot\u001b[0m \u001b[0mdiff\u001b[0m\u001b[0;34m.\u001b[0m\u001b[0mempty\u001b[0m\u001b[0;34m:\u001b[0m\u001b[0;34m\u001b[0m\u001b[0m\n\u001b[0;32m-> 4381\u001b[0;31m             \u001b[0;32mraise\u001b[0m \u001b[0mKeyError\u001b[0m\u001b[0;34m(\u001b[0m\u001b[0mdiff\u001b[0m\u001b[0;34m)\u001b[0m\u001b[0;34m\u001b[0m\u001b[0m\n\u001b[0m\u001b[1;32m   4382\u001b[0m \u001b[0;34m\u001b[0m\u001b[0m\n\u001b[1;32m   4383\u001b[0m         vals = (col.values for name, col in self.iteritems()\n",
      "\u001b[0;31mKeyError\u001b[0m: Index(['time', 'updated', 'version'], dtype='object')"
     ]
    }
   ],
   "source": [
    "cdf4 = cdf4.reset_in"
   ]
  },
  {
   "cell_type": "code",
   "execution_count": null,
   "metadata": {},
   "outputs": [],
   "source": []
  }
 ],
 "metadata": {
  "kernelspec": {
   "display_name": "Python 3",
   "language": "python",
   "name": "python3"
  },
  "language_info": {
   "codemirror_mode": {
    "name": "ipython",
    "version": 3
   },
   "file_extension": ".py",
   "mimetype": "text/x-python",
   "name": "python",
   "nbconvert_exporter": "python",
   "pygments_lexer": "ipython3",
   "version": "3.6.5"
  }
 },
 "nbformat": 4,
 "nbformat_minor": 2
}
